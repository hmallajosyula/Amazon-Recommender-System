{
 "cells": [
  {
   "cell_type": "code",
   "execution_count": 26,
   "metadata": {
    "collapsed": true
   },
   "outputs": [],
   "source": [
    "import pandas as pd\n",
    "import gzip\n",
    "import json\n",
    "from pandas.io.json import json_normalize\n",
    "import matplotlib.pyplot as plt\n",
    "%matplotlib inline\n",
    "import numpy as np\n"
   ]
  },
  {
   "cell_type": "code",
   "execution_count": 2,
   "metadata": {
    "collapsed": false
   },
   "outputs": [
    {
     "data": {
      "text/html": [
       "<div style=\"max-height:1000px;max-width:1500px;overflow:auto;\">\n",
       "<table border=\"1\" class=\"dataframe\">\n",
       "  <thead>\n",
       "    <tr style=\"text-align: right;\">\n",
       "      <th></th>\n",
       "      <th>reviewerID</th>\n",
       "      <th>asin</th>\n",
       "      <th>reviewerName</th>\n",
       "      <th>helpful</th>\n",
       "      <th>unixReviewTime</th>\n",
       "      <th>reviewText</th>\n",
       "      <th>overall</th>\n",
       "      <th>reviewTime</th>\n",
       "      <th>summary</th>\n",
       "    </tr>\n",
       "  </thead>\n",
       "  <tbody>\n",
       "    <tr>\n",
       "      <th>0</th>\n",
       "      <td>  AH2L9G3DQHHAJ</td>\n",
       "      <td> 0000000116</td>\n",
       "      <td>            chris</td>\n",
       "      <td>   [5, 5]</td>\n",
       "      <td> 1019865600</td>\n",
       "      <td> Interesting Grisham tale of a lawyer that take...</td>\n",
       "      <td> 4</td>\n",
       "      <td> 04 27, 2002</td>\n",
       "      <td>                                Show me the money!</td>\n",
       "    </tr>\n",
       "    <tr>\n",
       "      <th>1</th>\n",
       "      <td> A2IIIDRK3PRRZY</td>\n",
       "      <td> 0000000116</td>\n",
       "      <td>           Helene</td>\n",
       "      <td>   [0, 0]</td>\n",
       "      <td> 1395619200</td>\n",
       "      <td> The thumbnail is a shirt.  The product shown i...</td>\n",
       "      <td> 1</td>\n",
       "      <td> 03 24, 2014</td>\n",
       "      <td>                         Listing is all screwed up</td>\n",
       "    </tr>\n",
       "    <tr>\n",
       "      <th>2</th>\n",
       "      <td> A1TADCM7YWPQ8M</td>\n",
       "      <td> 0000000868</td>\n",
       "      <td>         Joel@AWS</td>\n",
       "      <td> [10, 10]</td>\n",
       "      <td> 1031702400</td>\n",
       "      <td> I'll be honest. I work for a large online reta...</td>\n",
       "      <td> 4</td>\n",
       "      <td> 09 11, 2002</td>\n",
       "      <td>                             Not a Bad Translation</td>\n",
       "    </tr>\n",
       "    <tr>\n",
       "      <th>3</th>\n",
       "      <td>  AWGH7V0BDOJKB</td>\n",
       "      <td> 0000013714</td>\n",
       "      <td> Barbara Marshall</td>\n",
       "      <td>   [0, 0]</td>\n",
       "      <td> 1383177600</td>\n",
       "      <td> It had all the songs I wanted but I had ordere...</td>\n",
       "      <td> 4</td>\n",
       "      <td> 10 31, 2013</td>\n",
       "      <td>                               Not the large print</td>\n",
       "    </tr>\n",
       "    <tr>\n",
       "      <th>4</th>\n",
       "      <td> A3UTQPQPM4TQO0</td>\n",
       "      <td> 0000013714</td>\n",
       "      <td>    betty burnett</td>\n",
       "      <td>   [0, 0]</td>\n",
       "      <td> 1374883200</td>\n",
       "      <td> We have many of the old, old issue. But the nu...</td>\n",
       "      <td> 5</td>\n",
       "      <td> 07 27, 2013</td>\n",
       "      <td> I was disappointed that you would only allow m...</td>\n",
       "    </tr>\n",
       "  </tbody>\n",
       "</table>\n",
       "</div>"
      ],
      "text/plain": [
       "       reviewerID        asin      reviewerName   helpful  unixReviewTime  \\\n",
       "0   AH2L9G3DQHHAJ  0000000116             chris    [5, 5]      1019865600   \n",
       "1  A2IIIDRK3PRRZY  0000000116            Helene    [0, 0]      1395619200   \n",
       "2  A1TADCM7YWPQ8M  0000000868          Joel@AWS  [10, 10]      1031702400   \n",
       "3   AWGH7V0BDOJKB  0000013714  Barbara Marshall    [0, 0]      1383177600   \n",
       "4  A3UTQPQPM4TQO0  0000013714     betty burnett    [0, 0]      1374883200   \n",
       "\n",
       "                                          reviewText  overall   reviewTime  \\\n",
       "0  Interesting Grisham tale of a lawyer that take...        4  04 27, 2002   \n",
       "1  The thumbnail is a shirt.  The product shown i...        1  03 24, 2014   \n",
       "2  I'll be honest. I work for a large online reta...        4  09 11, 2002   \n",
       "3  It had all the songs I wanted but I had ordere...        4  10 31, 2013   \n",
       "4  We have many of the old, old issue. But the nu...        5  07 27, 2013   \n",
       "\n",
       "                                             summary  \n",
       "0                                 Show me the money!  \n",
       "1                          Listing is all screwed up  \n",
       "2                              Not a Bad Translation  \n",
       "3                                Not the large print  \n",
       "4  I was disappointed that you would only allow m...  "
      ]
     },
     "execution_count": 2,
     "metadata": {},
     "output_type": "execute_result"
    }
   ],
   "source": [
    "#reading the Amazon JSON data \n",
    "def parse(path):\n",
    "  g = gzip.open(path, 'rb')\n",
    "  for l in g:\n",
    "    yield eval(l)\n",
    "\n",
    "#getting the first million observations    \n",
    "def getDF(path):\n",
    "  i = 0\n",
    "  df = {}\n",
    "  for d in parse(path):\n",
    "    df[i] = d\n",
    "    i += 1 \n",
    "    if i == 1000000:\n",
    "        break\n",
    "  return pd.DataFrame.from_dict(df, orient='index')\n",
    "\n",
    "#showing the contents of the reviews dataframe\n",
    "df_reviews = getDF('reviews_Books.json.gz')\n",
    "df_reviews.head()\n",
    "\n"
   ]
  },
  {
   "cell_type": "code",
   "execution_count": 3,
   "metadata": {
    "collapsed": false
   },
   "outputs": [
    {
     "data": {
      "text/html": [
       "<div style=\"max-height:1000px;max-width:1500px;overflow:auto;\">\n",
       "<table border=\"1\" class=\"dataframe\">\n",
       "  <thead>\n",
       "    <tr style=\"text-align: right;\">\n",
       "      <th></th>\n",
       "      <th>reviewerID</th>\n",
       "      <th>asin</th>\n",
       "      <th>reviewerName</th>\n",
       "      <th>helpful</th>\n",
       "      <th>unixReviewTime</th>\n",
       "      <th>reviewText</th>\n",
       "      <th>ReviewRating</th>\n",
       "      <th>reviewTime</th>\n",
       "      <th>RevSummary</th>\n",
       "    </tr>\n",
       "  </thead>\n",
       "  <tbody>\n",
       "    <tr>\n",
       "      <th>0</th>\n",
       "      <td>  AH2L9G3DQHHAJ</td>\n",
       "      <td> 0000000116</td>\n",
       "      <td>            chris</td>\n",
       "      <td>   [5, 5]</td>\n",
       "      <td> 1019865600</td>\n",
       "      <td> Interesting Grisham tale of a lawyer that take...</td>\n",
       "      <td> 4</td>\n",
       "      <td> 04 27, 2002</td>\n",
       "      <td>                                Show me the money!</td>\n",
       "    </tr>\n",
       "    <tr>\n",
       "      <th>1</th>\n",
       "      <td> A2IIIDRK3PRRZY</td>\n",
       "      <td> 0000000116</td>\n",
       "      <td>           Helene</td>\n",
       "      <td>   [0, 0]</td>\n",
       "      <td> 1395619200</td>\n",
       "      <td> The thumbnail is a shirt.  The product shown i...</td>\n",
       "      <td> 1</td>\n",
       "      <td> 03 24, 2014</td>\n",
       "      <td>                         Listing is all screwed up</td>\n",
       "    </tr>\n",
       "    <tr>\n",
       "      <th>2</th>\n",
       "      <td> A1TADCM7YWPQ8M</td>\n",
       "      <td> 0000000868</td>\n",
       "      <td>         Joel@AWS</td>\n",
       "      <td> [10, 10]</td>\n",
       "      <td> 1031702400</td>\n",
       "      <td> I'll be honest. I work for a large online reta...</td>\n",
       "      <td> 4</td>\n",
       "      <td> 09 11, 2002</td>\n",
       "      <td>                             Not a Bad Translation</td>\n",
       "    </tr>\n",
       "    <tr>\n",
       "      <th>3</th>\n",
       "      <td>  AWGH7V0BDOJKB</td>\n",
       "      <td> 0000013714</td>\n",
       "      <td> Barbara Marshall</td>\n",
       "      <td>   [0, 0]</td>\n",
       "      <td> 1383177600</td>\n",
       "      <td> It had all the songs I wanted but I had ordere...</td>\n",
       "      <td> 4</td>\n",
       "      <td> 10 31, 2013</td>\n",
       "      <td>                               Not the large print</td>\n",
       "    </tr>\n",
       "    <tr>\n",
       "      <th>4</th>\n",
       "      <td> A3UTQPQPM4TQO0</td>\n",
       "      <td> 0000013714</td>\n",
       "      <td>    betty burnett</td>\n",
       "      <td>   [0, 0]</td>\n",
       "      <td> 1374883200</td>\n",
       "      <td> We have many of the old, old issue. But the nu...</td>\n",
       "      <td> 5</td>\n",
       "      <td> 07 27, 2013</td>\n",
       "      <td> I was disappointed that you would only allow m...</td>\n",
       "    </tr>\n",
       "  </tbody>\n",
       "</table>\n",
       "</div>"
      ],
      "text/plain": [
       "       reviewerID        asin      reviewerName   helpful  unixReviewTime  \\\n",
       "0   AH2L9G3DQHHAJ  0000000116             chris    [5, 5]      1019865600   \n",
       "1  A2IIIDRK3PRRZY  0000000116            Helene    [0, 0]      1395619200   \n",
       "2  A1TADCM7YWPQ8M  0000000868          Joel@AWS  [10, 10]      1031702400   \n",
       "3   AWGH7V0BDOJKB  0000013714  Barbara Marshall    [0, 0]      1383177600   \n",
       "4  A3UTQPQPM4TQO0  0000013714     betty burnett    [0, 0]      1374883200   \n",
       "\n",
       "                                          reviewText  ReviewRating  \\\n",
       "0  Interesting Grisham tale of a lawyer that take...             4   \n",
       "1  The thumbnail is a shirt.  The product shown i...             1   \n",
       "2  I'll be honest. I work for a large online reta...             4   \n",
       "3  It had all the songs I wanted but I had ordere...             4   \n",
       "4  We have many of the old, old issue. But the nu...             5   \n",
       "\n",
       "    reviewTime                                         RevSummary  \n",
       "0  04 27, 2002                                 Show me the money!  \n",
       "1  03 24, 2014                          Listing is all screwed up  \n",
       "2  09 11, 2002                              Not a Bad Translation  \n",
       "3  10 31, 2013                                Not the large print  \n",
       "4  07 27, 2013  I was disappointed that you would only allow m...  "
      ]
     },
     "execution_count": 3,
     "metadata": {},
     "output_type": "execute_result"
    }
   ],
   "source": [
    "#renaming column names for the df_Reviews dataframe\n",
    "df_reviews = df_reviews.rename(columns={'overall': 'ReviewRating', 'summary': 'RevSummary'})\n",
    "df_reviews.head()"
   ]
  },
  {
   "cell_type": "code",
   "execution_count": 4,
   "metadata": {
    "collapsed": false
   },
   "outputs": [
    {
     "data": {
      "text/plain": [
       "1000000"
      ]
     },
     "execution_count": 4,
     "metadata": {},
     "output_type": "execute_result"
    }
   ],
   "source": [
    "len(df_reviews)"
   ]
  },
  {
   "cell_type": "code",
   "execution_count": 4,
   "metadata": {
    "collapsed": false
   },
   "outputs": [
    {
     "data": {
      "text/html": [
       "<div style=\"max-height:1000px;max-width:1500px;overflow:auto;\">\n",
       "<table border=\"1\" class=\"dataframe\">\n",
       "  <thead>\n",
       "    <tr style=\"text-align: right;\">\n",
       "      <th></th>\n",
       "      <th>asin</th>\n",
       "      <th>salesRank</th>\n",
       "      <th>imUrl</th>\n",
       "      <th>categories</th>\n",
       "      <th>title</th>\n",
       "      <th>description</th>\n",
       "      <th>related</th>\n",
       "      <th>price</th>\n",
       "      <th>brand</th>\n",
       "    </tr>\n",
       "  </thead>\n",
       "  <tbody>\n",
       "    <tr>\n",
       "      <th>0</th>\n",
       "      <td> 0001048791</td>\n",
       "      <td>  {u'Books': 6334800}</td>\n",
       "      <td> http://ecx.images-amazon.com/images/I/51MKP0T4...</td>\n",
       "      <td> [[Books]]</td>\n",
       "      <td> The Crucible: Performed by Stuart Pankin, Jero...</td>\n",
       "      <td>                                              None</td>\n",
       "      <td>                                              None</td>\n",
       "      <td>  NaN</td>\n",
       "      <td> None</td>\n",
       "    </tr>\n",
       "    <tr>\n",
       "      <th>1</th>\n",
       "      <td> 0001048775</td>\n",
       "      <td> {u'Books': 13243226}</td>\n",
       "      <td> http://ecx.images-amazon.com/images/I/5166EBHD...</td>\n",
       "      <td> [[Books]]</td>\n",
       "      <td>    Measure for Measure: Complete &amp;amp; Unabridged</td>\n",
       "      <td> William Shakespeare is widely regarded as the ...</td>\n",
       "      <td>                                              None</td>\n",
       "      <td>  NaN</td>\n",
       "      <td> None</td>\n",
       "    </tr>\n",
       "    <tr>\n",
       "      <th>2</th>\n",
       "      <td> 0001048236</td>\n",
       "      <td>  {u'Books': 8973864}</td>\n",
       "      <td> http://ecx.images-amazon.com/images/I/51DH145C...</td>\n",
       "      <td> [[Books]]</td>\n",
       "      <td>              The Sherlock Holmes Audio Collection</td>\n",
       "      <td> &amp;#34;One thing is certain, Sherlockians, put a...</td>\n",
       "      <td> {u'also_viewed': [u'1442300191', u'9626349786'...</td>\n",
       "      <td> 9.26</td>\n",
       "      <td> None</td>\n",
       "    </tr>\n",
       "    <tr>\n",
       "      <th>3</th>\n",
       "      <td> 0000401048</td>\n",
       "      <td>  {u'Books': 6448843}</td>\n",
       "      <td> http://ecx.images-amazon.com/images/I/41bchvIf...</td>\n",
       "      <td> [[Books]]</td>\n",
       "      <td> The rogue of publishers' row;: Confessions of ...</td>\n",
       "      <td>                                              None</td>\n",
       "      <td>                 {u'also_viewed': [u'068240103X']}</td>\n",
       "      <td>  NaN</td>\n",
       "      <td> None</td>\n",
       "    </tr>\n",
       "    <tr>\n",
       "      <th>4</th>\n",
       "      <td> 0001019880</td>\n",
       "      <td>  {u'Books': 9589258}</td>\n",
       "      <td> http://ecx.images-amazon.com/images/I/61LcHUdv...</td>\n",
       "      <td> [[Books]]</td>\n",
       "      <td>         Classic Soul Winner's New Testament Bible</td>\n",
       "      <td>                                              None</td>\n",
       "      <td> {u'also_viewed': [u'B003HMB5FC', u'0834004593'...</td>\n",
       "      <td> 5.39</td>\n",
       "      <td> None</td>\n",
       "    </tr>\n",
       "  </tbody>\n",
       "</table>\n",
       "</div>"
      ],
      "text/plain": [
       "         asin             salesRank  \\\n",
       "0  0001048791   {u'Books': 6334800}   \n",
       "1  0001048775  {u'Books': 13243226}   \n",
       "2  0001048236   {u'Books': 8973864}   \n",
       "3  0000401048   {u'Books': 6448843}   \n",
       "4  0001019880   {u'Books': 9589258}   \n",
       "\n",
       "                                               imUrl categories  \\\n",
       "0  http://ecx.images-amazon.com/images/I/51MKP0T4...  [[Books]]   \n",
       "1  http://ecx.images-amazon.com/images/I/5166EBHD...  [[Books]]   \n",
       "2  http://ecx.images-amazon.com/images/I/51DH145C...  [[Books]]   \n",
       "3  http://ecx.images-amazon.com/images/I/41bchvIf...  [[Books]]   \n",
       "4  http://ecx.images-amazon.com/images/I/61LcHUdv...  [[Books]]   \n",
       "\n",
       "                                               title  \\\n",
       "0  The Crucible: Performed by Stuart Pankin, Jero...   \n",
       "1     Measure for Measure: Complete &amp; Unabridged   \n",
       "2               The Sherlock Holmes Audio Collection   \n",
       "3  The rogue of publishers' row;: Confessions of ...   \n",
       "4          Classic Soul Winner's New Testament Bible   \n",
       "\n",
       "                                         description  \\\n",
       "0                                               None   \n",
       "1  William Shakespeare is widely regarded as the ...   \n",
       "2  &#34;One thing is certain, Sherlockians, put a...   \n",
       "3                                               None   \n",
       "4                                               None   \n",
       "\n",
       "                                             related  price brand  \n",
       "0                                               None    NaN  None  \n",
       "1                                               None    NaN  None  \n",
       "2  {u'also_viewed': [u'1442300191', u'9626349786'...   9.26  None  \n",
       "3                  {u'also_viewed': [u'068240103X']}    NaN  None  \n",
       "4  {u'also_viewed': [u'B003HMB5FC', u'0834004593'...   5.39  None  "
      ]
     },
     "execution_count": 4,
     "metadata": {},
     "output_type": "execute_result"
    }
   ],
   "source": [
    "##showing the contents of the Meta dataframe\n",
    "df_meta = getDF('meta_Books.json.gz')\n",
    "df_meta.head()"
   ]
  },
  {
   "cell_type": "code",
   "execution_count": 5,
   "metadata": {
    "collapsed": false
   },
   "outputs": [
    {
     "data": {
      "text/plain": [
       "1000000"
      ]
     },
     "execution_count": 5,
     "metadata": {},
     "output_type": "execute_result"
    }
   ],
   "source": [
    "#making sure the length is 1 million\n",
    "len(df_meta)"
   ]
  },
  {
   "cell_type": "code",
   "execution_count": 6,
   "metadata": {
    "collapsed": false
   },
   "outputs": [
    {
     "data": {
      "text/html": [
       "<div style=\"max-height:1000px;max-width:1500px;overflow:auto;\">\n",
       "<table border=\"1\" class=\"dataframe\">\n",
       "  <thead>\n",
       "    <tr style=\"text-align: right;\">\n",
       "      <th></th>\n",
       "      <th>reviewerID</th>\n",
       "      <th>asin</th>\n",
       "      <th>reviewerName</th>\n",
       "      <th>helpful</th>\n",
       "      <th>unixReviewTime</th>\n",
       "      <th>reviewText</th>\n",
       "      <th>ReviewRating</th>\n",
       "      <th>reviewTime</th>\n",
       "      <th>RevSummary</th>\n",
       "      <th>salesRank</th>\n",
       "      <th>imUrl</th>\n",
       "      <th>categories</th>\n",
       "      <th>title</th>\n",
       "      <th>description</th>\n",
       "      <th>related</th>\n",
       "      <th>price</th>\n",
       "      <th>brand</th>\n",
       "    </tr>\n",
       "  </thead>\n",
       "  <tbody>\n",
       "    <tr>\n",
       "      <th>0</th>\n",
       "      <td>  AH2L9G3DQHHAJ</td>\n",
       "      <td> 0000000116</td>\n",
       "      <td>            chris</td>\n",
       "      <td>   [5, 5]</td>\n",
       "      <td> 1019865600</td>\n",
       "      <td> Interesting Grisham tale of a lawyer that take...</td>\n",
       "      <td> 4</td>\n",
       "      <td> 04 27, 2002</td>\n",
       "      <td>                                Show me the money!</td>\n",
       "      <td> {u'Books': 10790794}</td>\n",
       "      <td> http://ecx.images-amazon.com/images/I/51Rbg%2B...</td>\n",
       "      <td> [[Books]]</td>\n",
       "      <td> Georgina Goodman Nelson Womens Size 8.5 Purple...</td>\n",
       "      <td> None</td>\n",
       "      <td> {u'also_viewed': [u'B005U9T66K', u'B00602O7PG'...</td>\n",
       "      <td>   NaN</td>\n",
       "      <td> None</td>\n",
       "    </tr>\n",
       "    <tr>\n",
       "      <th>1</th>\n",
       "      <td> A2IIIDRK3PRRZY</td>\n",
       "      <td> 0000000116</td>\n",
       "      <td>           Helene</td>\n",
       "      <td>   [0, 0]</td>\n",
       "      <td> 1395619200</td>\n",
       "      <td> The thumbnail is a shirt.  The product shown i...</td>\n",
       "      <td> 1</td>\n",
       "      <td> 03 24, 2014</td>\n",
       "      <td>                         Listing is all screwed up</td>\n",
       "      <td> {u'Books': 10790794}</td>\n",
       "      <td> http://ecx.images-amazon.com/images/I/51Rbg%2B...</td>\n",
       "      <td> [[Books]]</td>\n",
       "      <td> Georgina Goodman Nelson Womens Size 8.5 Purple...</td>\n",
       "      <td> None</td>\n",
       "      <td> {u'also_viewed': [u'B005U9T66K', u'B00602O7PG'...</td>\n",
       "      <td>   NaN</td>\n",
       "      <td> None</td>\n",
       "    </tr>\n",
       "    <tr>\n",
       "      <th>2</th>\n",
       "      <td> A1TADCM7YWPQ8M</td>\n",
       "      <td> 0000000868</td>\n",
       "      <td>         Joel@AWS</td>\n",
       "      <td> [10, 10]</td>\n",
       "      <td> 1031702400</td>\n",
       "      <td> I'll be honest. I work for a large online reta...</td>\n",
       "      <td> 4</td>\n",
       "      <td> 09 11, 2002</td>\n",
       "      <td>                             Not a Bad Translation</td>\n",
       "      <td> {u'Books': 14161827}</td>\n",
       "      <td> http://ecx.images-amazon.com/images/I/41K1RtF0...</td>\n",
       "      <td> [[Books]]</td>\n",
       "      <td> Foot Rot of Piper nigrum. L. (Phytopathologica...</td>\n",
       "      <td> None</td>\n",
       "      <td>                                              None</td>\n",
       "      <td> 21.85</td>\n",
       "      <td> None</td>\n",
       "    </tr>\n",
       "    <tr>\n",
       "      <th>3</th>\n",
       "      <td>  AWGH7V0BDOJKB</td>\n",
       "      <td> 0000013714</td>\n",
       "      <td> Barbara Marshall</td>\n",
       "      <td>   [0, 0]</td>\n",
       "      <td> 1383177600</td>\n",
       "      <td> It had all the songs I wanted but I had ordere...</td>\n",
       "      <td> 4</td>\n",
       "      <td> 10 31, 2013</td>\n",
       "      <td>                               Not the large print</td>\n",
       "      <td>    {u'Books': 64393}</td>\n",
       "      <td> http://ecx.images-amazon.com/images/I/51M1p2do...</td>\n",
       "      <td> [[Books]]</td>\n",
       "      <td>        Heavenly Highway Hymns: Shaped-Note Hymnal</td>\n",
       "      <td> None</td>\n",
       "      <td> {u'also_bought': [u'0005080789', u'0005476798'...</td>\n",
       "      <td>  8.09</td>\n",
       "      <td> None</td>\n",
       "    </tr>\n",
       "    <tr>\n",
       "      <th>4</th>\n",
       "      <td> A3UTQPQPM4TQO0</td>\n",
       "      <td> 0000013714</td>\n",
       "      <td>    betty burnett</td>\n",
       "      <td>   [0, 0]</td>\n",
       "      <td> 1374883200</td>\n",
       "      <td> We have many of the old, old issue. But the nu...</td>\n",
       "      <td> 5</td>\n",
       "      <td> 07 27, 2013</td>\n",
       "      <td> I was disappointed that you would only allow m...</td>\n",
       "      <td>    {u'Books': 64393}</td>\n",
       "      <td> http://ecx.images-amazon.com/images/I/51M1p2do...</td>\n",
       "      <td> [[Books]]</td>\n",
       "      <td>        Heavenly Highway Hymns: Shaped-Note Hymnal</td>\n",
       "      <td> None</td>\n",
       "      <td> {u'also_bought': [u'0005080789', u'0005476798'...</td>\n",
       "      <td>  8.09</td>\n",
       "      <td> None</td>\n",
       "    </tr>\n",
       "  </tbody>\n",
       "</table>\n",
       "</div>"
      ],
      "text/plain": [
       "       reviewerID        asin      reviewerName   helpful  unixReviewTime  \\\n",
       "0   AH2L9G3DQHHAJ  0000000116             chris    [5, 5]      1019865600   \n",
       "1  A2IIIDRK3PRRZY  0000000116            Helene    [0, 0]      1395619200   \n",
       "2  A1TADCM7YWPQ8M  0000000868          Joel@AWS  [10, 10]      1031702400   \n",
       "3   AWGH7V0BDOJKB  0000013714  Barbara Marshall    [0, 0]      1383177600   \n",
       "4  A3UTQPQPM4TQO0  0000013714     betty burnett    [0, 0]      1374883200   \n",
       "\n",
       "                                          reviewText  ReviewRating  \\\n",
       "0  Interesting Grisham tale of a lawyer that take...             4   \n",
       "1  The thumbnail is a shirt.  The product shown i...             1   \n",
       "2  I'll be honest. I work for a large online reta...             4   \n",
       "3  It had all the songs I wanted but I had ordere...             4   \n",
       "4  We have many of the old, old issue. But the nu...             5   \n",
       "\n",
       "    reviewTime                                         RevSummary  \\\n",
       "0  04 27, 2002                                 Show me the money!   \n",
       "1  03 24, 2014                          Listing is all screwed up   \n",
       "2  09 11, 2002                              Not a Bad Translation   \n",
       "3  10 31, 2013                                Not the large print   \n",
       "4  07 27, 2013  I was disappointed that you would only allow m...   \n",
       "\n",
       "              salesRank                                              imUrl  \\\n",
       "0  {u'Books': 10790794}  http://ecx.images-amazon.com/images/I/51Rbg%2B...   \n",
       "1  {u'Books': 10790794}  http://ecx.images-amazon.com/images/I/51Rbg%2B...   \n",
       "2  {u'Books': 14161827}  http://ecx.images-amazon.com/images/I/41K1RtF0...   \n",
       "3     {u'Books': 64393}  http://ecx.images-amazon.com/images/I/51M1p2do...   \n",
       "4     {u'Books': 64393}  http://ecx.images-amazon.com/images/I/51M1p2do...   \n",
       "\n",
       "  categories                                              title description  \\\n",
       "0  [[Books]]  Georgina Goodman Nelson Womens Size 8.5 Purple...        None   \n",
       "1  [[Books]]  Georgina Goodman Nelson Womens Size 8.5 Purple...        None   \n",
       "2  [[Books]]  Foot Rot of Piper nigrum. L. (Phytopathologica...        None   \n",
       "3  [[Books]]         Heavenly Highway Hymns: Shaped-Note Hymnal        None   \n",
       "4  [[Books]]         Heavenly Highway Hymns: Shaped-Note Hymnal        None   \n",
       "\n",
       "                                             related  price brand  \n",
       "0  {u'also_viewed': [u'B005U9T66K', u'B00602O7PG'...    NaN  None  \n",
       "1  {u'also_viewed': [u'B005U9T66K', u'B00602O7PG'...    NaN  None  \n",
       "2                                               None  21.85  None  \n",
       "3  {u'also_bought': [u'0005080789', u'0005476798'...   8.09  None  \n",
       "4  {u'also_bought': [u'0005080789', u'0005476798'...   8.09  None  "
      ]
     },
     "execution_count": 6,
     "metadata": {},
     "output_type": "execute_result"
    }
   ],
   "source": [
    "#merging the meta dataframe with the reviews dataframe\n",
    "df_reviews = df_reviews.merge(df_meta)\n",
    "df_reviews.head()"
   ]
  },
  {
   "cell_type": "code",
   "execution_count": 7,
   "metadata": {
    "collapsed": false
   },
   "outputs": [
    {
     "data": {
      "text/html": [
       "<div style=\"max-height:1000px;max-width:1500px;overflow:auto;\">\n",
       "<table border=\"1\" class=\"dataframe\">\n",
       "  <thead>\n",
       "    <tr style=\"text-align: right;\">\n",
       "      <th></th>\n",
       "      <th>reviewerID</th>\n",
       "      <th>asin</th>\n",
       "      <th>reviewerName</th>\n",
       "      <th>helpful</th>\n",
       "      <th>reviewText</th>\n",
       "      <th>ReviewRating</th>\n",
       "      <th>reviewTime</th>\n",
       "      <th>RevSummary</th>\n",
       "      <th>salesRank</th>\n",
       "      <th>imUrl</th>\n",
       "      <th>categories</th>\n",
       "      <th>title</th>\n",
       "      <th>description</th>\n",
       "      <th>related</th>\n",
       "      <th>price</th>\n",
       "      <th>brand</th>\n",
       "    </tr>\n",
       "  </thead>\n",
       "  <tbody>\n",
       "    <tr>\n",
       "      <th>0</th>\n",
       "      <td>  AH2L9G3DQHHAJ</td>\n",
       "      <td> 0000000116</td>\n",
       "      <td>            chris</td>\n",
       "      <td>   [5, 5]</td>\n",
       "      <td> Interesting Grisham tale of a lawyer that take...</td>\n",
       "      <td> 4</td>\n",
       "      <td> 04 27, 2002</td>\n",
       "      <td>                                Show me the money!</td>\n",
       "      <td> {u'Books': 10790794}</td>\n",
       "      <td> http://ecx.images-amazon.com/images/I/51Rbg%2B...</td>\n",
       "      <td> [[Books]]</td>\n",
       "      <td> Georgina Goodman Nelson Womens Size 8.5 Purple...</td>\n",
       "      <td> None</td>\n",
       "      <td> {u'also_viewed': [u'B005U9T66K', u'B00602O7PG'...</td>\n",
       "      <td>   NaN</td>\n",
       "      <td> None</td>\n",
       "    </tr>\n",
       "    <tr>\n",
       "      <th>1</th>\n",
       "      <td> A2IIIDRK3PRRZY</td>\n",
       "      <td> 0000000116</td>\n",
       "      <td>           Helene</td>\n",
       "      <td>   [0, 0]</td>\n",
       "      <td> The thumbnail is a shirt.  The product shown i...</td>\n",
       "      <td> 1</td>\n",
       "      <td> 03 24, 2014</td>\n",
       "      <td>                         Listing is all screwed up</td>\n",
       "      <td> {u'Books': 10790794}</td>\n",
       "      <td> http://ecx.images-amazon.com/images/I/51Rbg%2B...</td>\n",
       "      <td> [[Books]]</td>\n",
       "      <td> Georgina Goodman Nelson Womens Size 8.5 Purple...</td>\n",
       "      <td> None</td>\n",
       "      <td> {u'also_viewed': [u'B005U9T66K', u'B00602O7PG'...</td>\n",
       "      <td>   NaN</td>\n",
       "      <td> None</td>\n",
       "    </tr>\n",
       "    <tr>\n",
       "      <th>2</th>\n",
       "      <td> A1TADCM7YWPQ8M</td>\n",
       "      <td> 0000000868</td>\n",
       "      <td>         Joel@AWS</td>\n",
       "      <td> [10, 10]</td>\n",
       "      <td> I'll be honest. I work for a large online reta...</td>\n",
       "      <td> 4</td>\n",
       "      <td> 09 11, 2002</td>\n",
       "      <td>                             Not a Bad Translation</td>\n",
       "      <td> {u'Books': 14161827}</td>\n",
       "      <td> http://ecx.images-amazon.com/images/I/41K1RtF0...</td>\n",
       "      <td> [[Books]]</td>\n",
       "      <td> Foot Rot of Piper nigrum. L. (Phytopathologica...</td>\n",
       "      <td> None</td>\n",
       "      <td>                                              None</td>\n",
       "      <td> 21.85</td>\n",
       "      <td> None</td>\n",
       "    </tr>\n",
       "    <tr>\n",
       "      <th>3</th>\n",
       "      <td>  AWGH7V0BDOJKB</td>\n",
       "      <td> 0000013714</td>\n",
       "      <td> Barbara Marshall</td>\n",
       "      <td>   [0, 0]</td>\n",
       "      <td> It had all the songs I wanted but I had ordere...</td>\n",
       "      <td> 4</td>\n",
       "      <td> 10 31, 2013</td>\n",
       "      <td>                               Not the large print</td>\n",
       "      <td>    {u'Books': 64393}</td>\n",
       "      <td> http://ecx.images-amazon.com/images/I/51M1p2do...</td>\n",
       "      <td> [[Books]]</td>\n",
       "      <td>        Heavenly Highway Hymns: Shaped-Note Hymnal</td>\n",
       "      <td> None</td>\n",
       "      <td> {u'also_bought': [u'0005080789', u'0005476798'...</td>\n",
       "      <td>  8.09</td>\n",
       "      <td> None</td>\n",
       "    </tr>\n",
       "    <tr>\n",
       "      <th>4</th>\n",
       "      <td> A3UTQPQPM4TQO0</td>\n",
       "      <td> 0000013714</td>\n",
       "      <td>    betty burnett</td>\n",
       "      <td>   [0, 0]</td>\n",
       "      <td> We have many of the old, old issue. But the nu...</td>\n",
       "      <td> 5</td>\n",
       "      <td> 07 27, 2013</td>\n",
       "      <td> I was disappointed that you would only allow m...</td>\n",
       "      <td>    {u'Books': 64393}</td>\n",
       "      <td> http://ecx.images-amazon.com/images/I/51M1p2do...</td>\n",
       "      <td> [[Books]]</td>\n",
       "      <td>        Heavenly Highway Hymns: Shaped-Note Hymnal</td>\n",
       "      <td> None</td>\n",
       "      <td> {u'also_bought': [u'0005080789', u'0005476798'...</td>\n",
       "      <td>  8.09</td>\n",
       "      <td> None</td>\n",
       "    </tr>\n",
       "  </tbody>\n",
       "</table>\n",
       "</div>"
      ],
      "text/plain": [
       "       reviewerID        asin      reviewerName   helpful  \\\n",
       "0   AH2L9G3DQHHAJ  0000000116             chris    [5, 5]   \n",
       "1  A2IIIDRK3PRRZY  0000000116            Helene    [0, 0]   \n",
       "2  A1TADCM7YWPQ8M  0000000868          Joel@AWS  [10, 10]   \n",
       "3   AWGH7V0BDOJKB  0000013714  Barbara Marshall    [0, 0]   \n",
       "4  A3UTQPQPM4TQO0  0000013714     betty burnett    [0, 0]   \n",
       "\n",
       "                                          reviewText  ReviewRating  \\\n",
       "0  Interesting Grisham tale of a lawyer that take...             4   \n",
       "1  The thumbnail is a shirt.  The product shown i...             1   \n",
       "2  I'll be honest. I work for a large online reta...             4   \n",
       "3  It had all the songs I wanted but I had ordere...             4   \n",
       "4  We have many of the old, old issue. But the nu...             5   \n",
       "\n",
       "    reviewTime                                         RevSummary  \\\n",
       "0  04 27, 2002                                 Show me the money!   \n",
       "1  03 24, 2014                          Listing is all screwed up   \n",
       "2  09 11, 2002                              Not a Bad Translation   \n",
       "3  10 31, 2013                                Not the large print   \n",
       "4  07 27, 2013  I was disappointed that you would only allow m...   \n",
       "\n",
       "              salesRank                                              imUrl  \\\n",
       "0  {u'Books': 10790794}  http://ecx.images-amazon.com/images/I/51Rbg%2B...   \n",
       "1  {u'Books': 10790794}  http://ecx.images-amazon.com/images/I/51Rbg%2B...   \n",
       "2  {u'Books': 14161827}  http://ecx.images-amazon.com/images/I/41K1RtF0...   \n",
       "3     {u'Books': 64393}  http://ecx.images-amazon.com/images/I/51M1p2do...   \n",
       "4     {u'Books': 64393}  http://ecx.images-amazon.com/images/I/51M1p2do...   \n",
       "\n",
       "  categories                                              title description  \\\n",
       "0  [[Books]]  Georgina Goodman Nelson Womens Size 8.5 Purple...        None   \n",
       "1  [[Books]]  Georgina Goodman Nelson Womens Size 8.5 Purple...        None   \n",
       "2  [[Books]]  Foot Rot of Piper nigrum. L. (Phytopathologica...        None   \n",
       "3  [[Books]]         Heavenly Highway Hymns: Shaped-Note Hymnal        None   \n",
       "4  [[Books]]         Heavenly Highway Hymns: Shaped-Note Hymnal        None   \n",
       "\n",
       "                                             related  price brand  \n",
       "0  {u'also_viewed': [u'B005U9T66K', u'B00602O7PG'...    NaN  None  \n",
       "1  {u'also_viewed': [u'B005U9T66K', u'B00602O7PG'...    NaN  None  \n",
       "2                                               None  21.85  None  \n",
       "3  {u'also_bought': [u'0005080789', u'0005476798'...   8.09  None  \n",
       "4  {u'also_bought': [u'0005080789', u'0005476798'...   8.09  None  "
      ]
     },
     "execution_count": 7,
     "metadata": {},
     "output_type": "execute_result"
    }
   ],
   "source": [
    "#dropping unused columns\n",
    "df_reviews = df_reviews.drop('unixReviewTime',1)\n",
    "df_reviews.head()"
   ]
  },
  {
   "cell_type": "code",
   "execution_count": 8,
   "metadata": {
    "collapsed": false
   },
   "outputs": [
    {
     "name": "stdout",
     "output_type": "stream",
     "text": [
      "4.22772\n"
     ]
    }
   ],
   "source": [
    "#computing average rating for BOOKS\n",
    "print sum(df_reviews.ReviewRating) / len(df_reviews.ReviewRating)"
   ]
  },
  {
   "cell_type": "code",
   "execution_count": 9,
   "metadata": {
    "collapsed": false
   },
   "outputs": [],
   "source": [
    "#dropping observations without a userid\n",
    "df_reviews = df_reviews.dropna(subset=['reviewerID','asin'])"
   ]
  },
  {
   "cell_type": "code",
   "execution_count": 10,
   "metadata": {
    "collapsed": false
   },
   "outputs": [
    {
     "data": {
      "text/plain": [
       "1000000"
      ]
     },
     "execution_count": 10,
     "metadata": {},
     "output_type": "execute_result"
    }
   ],
   "source": [
    "df_reviews = df_reviews[df_reviews.reviewerID!= \"None\"]\n",
    "len(df_reviews)"
   ]
  },
  {
   "cell_type": "code",
   "execution_count": 11,
   "metadata": {
    "collapsed": false
   },
   "outputs": [
    {
     "data": {
      "text/plain": [
       "1000000"
      ]
     },
     "execution_count": 11,
     "metadata": {},
     "output_type": "execute_result"
    }
   ],
   "source": [
    "df_reviews = df_reviews[df_reviews.asin!= \"None\"]\n",
    "len(df_reviews)"
   ]
  },
  {
   "cell_type": "code",
   "execution_count": 51,
   "metadata": {
    "collapsed": false
   },
   "outputs": [
    {
     "name": "stdout",
     "output_type": "stream",
     "text": [
      "0.655648738786\n"
     ]
    }
   ],
   "source": [
    "#computing average score of helpful rating\n",
    "df_reviews['helpful-score'] = df_reviews['helpful'].str[-2].astype(float)\n",
    "df_reviews['helpful-max'] = df_reviews['helpful'].str[1].astype(float)\n",
    "\n",
    "print sum(df_reviews['helpful-score'])/sum(df_reviews['helpful-max'])"
   ]
  },
  {
   "cell_type": "code",
   "execution_count": 71,
   "metadata": {
    "collapsed": false
   },
   "outputs": [
    {
     "name": "stdout",
     "output_type": "stream",
     "text": [
      "8.74720563008\n"
     ]
    }
   ],
   "source": [
    "#computing average price of all books\n",
    "df_reviews['price'] = df_reviews['price'].astype('float')\n",
    "df_reviews['price'] = df_reviews['price'].fillna('')\n",
    "print sum(df_reviews['price'])/len(df_reviews['price'])"
   ]
  },
  {
   "cell_type": "code",
   "execution_count": 112,
   "metadata": {
    "collapsed": false
   },
   "outputs": [
    {
     "data": {
      "text/plain": [
       "<matplotlib.text.Text at 0x1cdac2a10>"
      ]
     },
     "execution_count": 112,
     "metadata": {},
     "output_type": "execute_result"
    },
    {
     "data": {
      "image/png": "[encoded data removed]",
      "text/plain": [
       "<matplotlib.figure.Figure at 0x1cdd0b1d0>"
      ]
     },
     "metadata": {},
     "output_type": "display_data"
    }
   ],
   "source": [
    "#Top 10 users posting the most reviews\n",
    "freq_users = df_reviews.groupby(['reviewerID']).size()\n",
    "freq_users.order().tail(10).plot(kind='bar')\n",
    "plt.ylabel('# of reviews')"
   ]
  },
  {
   "cell_type": "code",
   "execution_count": 55,
   "metadata": {
    "collapsed": true
   },
   "outputs": [],
   "source": [
    "\n",
    "#separating year from the review time\n",
    "df_reviews['yr'] = df_reviews['reviewTime'].str[-4:].astype(int)"
   ]
  },
  {
   "cell_type": "code",
   "execution_count": 99,
   "metadata": {
    "collapsed": false
   },
   "outputs": [
    {
     "data": {
      "text/html": [
       "<div style=\"max-height:1000px;max-width:1500px;overflow:auto;\">\n",
       "<table border=\"1\" class=\"dataframe\">\n",
       "  <thead>\n",
       "    <tr style=\"text-align: right;\">\n",
       "      <th></th>\n",
       "      <th>reviewerID</th>\n",
       "      <th>asin</th>\n",
       "      <th>reviewerName</th>\n",
       "      <th>helpful</th>\n",
       "      <th>reviewText</th>\n",
       "      <th>ReviewRating</th>\n",
       "      <th>reviewTime</th>\n",
       "      <th>RevSummary</th>\n",
       "      <th>salesRank</th>\n",
       "      <th>imUrl</th>\n",
       "      <th>categories</th>\n",
       "      <th>title</th>\n",
       "      <th>description</th>\n",
       "      <th>related</th>\n",
       "      <th>price</th>\n",
       "      <th>brand</th>\n",
       "      <th>yr</th>\n",
       "    </tr>\n",
       "  </thead>\n",
       "  <tbody>\n",
       "    <tr>\n",
       "      <th>0</th>\n",
       "      <td>  AH2L9G3DQHHAJ</td>\n",
       "      <td> 0000000116</td>\n",
       "      <td>            chris</td>\n",
       "      <td>   [5, 5]</td>\n",
       "      <td> Interesting Grisham tale of a lawyer that take...</td>\n",
       "      <td> 4</td>\n",
       "      <td> 04 27, 2002</td>\n",
       "      <td>                                Show me the money!</td>\n",
       "      <td> {u'Books': 10790794}</td>\n",
       "      <td> http://ecx.images-amazon.com/images/I/51Rbg%2B...</td>\n",
       "      <td> [[Books]]</td>\n",
       "      <td> Georgina Goodman Nelson Womens Size 8.5 Purple...</td>\n",
       "      <td> None</td>\n",
       "      <td> {u'also_viewed': [u'B005U9T66K', u'B00602O7PG'...</td>\n",
       "      <td>   NaN</td>\n",
       "      <td> None</td>\n",
       "      <td> 2002</td>\n",
       "    </tr>\n",
       "    <tr>\n",
       "      <th>1</th>\n",
       "      <td> A2IIIDRK3PRRZY</td>\n",
       "      <td> 0000000116</td>\n",
       "      <td>           Helene</td>\n",
       "      <td>   [0, 0]</td>\n",
       "      <td> The thumbnail is a shirt.  The product shown i...</td>\n",
       "      <td> 1</td>\n",
       "      <td> 03 24, 2014</td>\n",
       "      <td>                         Listing is all screwed up</td>\n",
       "      <td> {u'Books': 10790794}</td>\n",
       "      <td> http://ecx.images-amazon.com/images/I/51Rbg%2B...</td>\n",
       "      <td> [[Books]]</td>\n",
       "      <td> Georgina Goodman Nelson Womens Size 8.5 Purple...</td>\n",
       "      <td> None</td>\n",
       "      <td> {u'also_viewed': [u'B005U9T66K', u'B00602O7PG'...</td>\n",
       "      <td>   NaN</td>\n",
       "      <td> None</td>\n",
       "      <td> 2014</td>\n",
       "    </tr>\n",
       "    <tr>\n",
       "      <th>2</th>\n",
       "      <td> A1TADCM7YWPQ8M</td>\n",
       "      <td> 0000000868</td>\n",
       "      <td>         Joel@AWS</td>\n",
       "      <td> [10, 10]</td>\n",
       "      <td> I'll be honest. I work for a large online reta...</td>\n",
       "      <td> 4</td>\n",
       "      <td> 09 11, 2002</td>\n",
       "      <td>                             Not a Bad Translation</td>\n",
       "      <td> {u'Books': 14161827}</td>\n",
       "      <td> http://ecx.images-amazon.com/images/I/41K1RtF0...</td>\n",
       "      <td> [[Books]]</td>\n",
       "      <td> Foot Rot of Piper nigrum. L. (Phytopathologica...</td>\n",
       "      <td> None</td>\n",
       "      <td>                                              None</td>\n",
       "      <td> 21.85</td>\n",
       "      <td> None</td>\n",
       "      <td> 2002</td>\n",
       "    </tr>\n",
       "    <tr>\n",
       "      <th>3</th>\n",
       "      <td>  AWGH7V0BDOJKB</td>\n",
       "      <td> 0000013714</td>\n",
       "      <td> Barbara Marshall</td>\n",
       "      <td>   [0, 0]</td>\n",
       "      <td> It had all the songs I wanted but I had ordere...</td>\n",
       "      <td> 4</td>\n",
       "      <td> 10 31, 2013</td>\n",
       "      <td>                               Not the large print</td>\n",
       "      <td>    {u'Books': 64393}</td>\n",
       "      <td> http://ecx.images-amazon.com/images/I/51M1p2do...</td>\n",
       "      <td> [[Books]]</td>\n",
       "      <td>        Heavenly Highway Hymns: Shaped-Note Hymnal</td>\n",
       "      <td> None</td>\n",
       "      <td> {u'also_bought': [u'0005080789', u'0005476798'...</td>\n",
       "      <td>  8.09</td>\n",
       "      <td> None</td>\n",
       "      <td> 2013</td>\n",
       "    </tr>\n",
       "    <tr>\n",
       "      <th>4</th>\n",
       "      <td> A3UTQPQPM4TQO0</td>\n",
       "      <td> 0000013714</td>\n",
       "      <td>    betty burnett</td>\n",
       "      <td>   [0, 0]</td>\n",
       "      <td> We have many of the old, old issue. But the nu...</td>\n",
       "      <td> 5</td>\n",
       "      <td> 07 27, 2013</td>\n",
       "      <td> I was disappointed that you would only allow m...</td>\n",
       "      <td>    {u'Books': 64393}</td>\n",
       "      <td> http://ecx.images-amazon.com/images/I/51M1p2do...</td>\n",
       "      <td> [[Books]]</td>\n",
       "      <td>        Heavenly Highway Hymns: Shaped-Note Hymnal</td>\n",
       "      <td> None</td>\n",
       "      <td> {u'also_bought': [u'0005080789', u'0005476798'...</td>\n",
       "      <td>  8.09</td>\n",
       "      <td> None</td>\n",
       "      <td> 2013</td>\n",
       "    </tr>\n",
       "  </tbody>\n",
       "</table>\n",
       "</div>"
      ],
      "text/plain": [
       "       reviewerID        asin      reviewerName   helpful  \\\n",
       "0   AH2L9G3DQHHAJ  0000000116             chris    [5, 5]   \n",
       "1  A2IIIDRK3PRRZY  0000000116            Helene    [0, 0]   \n",
       "2  A1TADCM7YWPQ8M  0000000868          Joel@AWS  [10, 10]   \n",
       "3   AWGH7V0BDOJKB  0000013714  Barbara Marshall    [0, 0]   \n",
       "4  A3UTQPQPM4TQO0  0000013714     betty burnett    [0, 0]   \n",
       "\n",
       "                                          reviewText  ReviewRating  \\\n",
       "0  Interesting Grisham tale of a lawyer that take...             4   \n",
       "1  The thumbnail is a shirt.  The product shown i...             1   \n",
       "2  I'll be honest. I work for a large online reta...             4   \n",
       "3  It had all the songs I wanted but I had ordere...             4   \n",
       "4  We have many of the old, old issue. But the nu...             5   \n",
       "\n",
       "    reviewTime                                         RevSummary  \\\n",
       "0  04 27, 2002                                 Show me the money!   \n",
       "1  03 24, 2014                          Listing is all screwed up   \n",
       "2  09 11, 2002                              Not a Bad Translation   \n",
       "3  10 31, 2013                                Not the large print   \n",
       "4  07 27, 2013  I was disappointed that you would only allow m...   \n",
       "\n",
       "              salesRank                                              imUrl  \\\n",
       "0  {u'Books': 10790794}  http://ecx.images-amazon.com/images/I/51Rbg%2B...   \n",
       "1  {u'Books': 10790794}  http://ecx.images-amazon.com/images/I/51Rbg%2B...   \n",
       "2  {u'Books': 14161827}  http://ecx.images-amazon.com/images/I/41K1RtF0...   \n",
       "3     {u'Books': 64393}  http://ecx.images-amazon.com/images/I/51M1p2do...   \n",
       "4     {u'Books': 64393}  http://ecx.images-amazon.com/images/I/51M1p2do...   \n",
       "\n",
       "  categories                                              title description  \\\n",
       "0  [[Books]]  Georgina Goodman Nelson Womens Size 8.5 Purple...        None   \n",
       "1  [[Books]]  Georgina Goodman Nelson Womens Size 8.5 Purple...        None   \n",
       "2  [[Books]]  Foot Rot of Piper nigrum. L. (Phytopathologica...        None   \n",
       "3  [[Books]]         Heavenly Highway Hymns: Shaped-Note Hymnal        None   \n",
       "4  [[Books]]         Heavenly Highway Hymns: Shaped-Note Hymnal        None   \n",
       "\n",
       "                                             related  price brand    yr  \n",
       "0  {u'also_viewed': [u'B005U9T66K', u'B00602O7PG'...    NaN  None  2002  \n",
       "1  {u'also_viewed': [u'B005U9T66K', u'B00602O7PG'...    NaN  None  2014  \n",
       "2                                               None  21.85  None  2002  \n",
       "3  {u'also_bought': [u'0005080789', u'0005476798'...   8.09  None  2013  \n",
       "4  {u'also_bought': [u'0005080789', u'0005476798'...   8.09  None  2013  "
      ]
     },
     "execution_count": 99,
     "metadata": {},
     "output_type": "execute_result"
    }
   ],
   "source": [
    "df_reviews.head()"
   ]
  },
  {
   "cell_type": "code",
   "execution_count": 56,
   "metadata": {
    "collapsed": false
   },
   "outputs": [
    {
     "data": {
      "text/html": [
       "<div style=\"max-height:1000px;max-width:1500px;overflow:auto;\">\n",
       "<table border=\"1\" class=\"dataframe\">\n",
       "  <thead>\n",
       "    <tr style=\"text-align: right;\">\n",
       "      <th></th>\n",
       "      <th>reviewerID</th>\n",
       "      <th>asin</th>\n",
       "      <th>reviewerName</th>\n",
       "      <th>helpful</th>\n",
       "      <th>reviewText</th>\n",
       "      <th>ReviewRating</th>\n",
       "      <th>reviewTime</th>\n",
       "      <th>RevSummary</th>\n",
       "      <th>salesRank</th>\n",
       "      <th>imUrl</th>\n",
       "      <th>categories</th>\n",
       "      <th>title</th>\n",
       "      <th>description</th>\n",
       "      <th>related</th>\n",
       "      <th>price</th>\n",
       "      <th>brand</th>\n",
       "      <th>helpful-max</th>\n",
       "      <th>helpful-score</th>\n",
       "      <th>helpful-percent</th>\n",
       "      <th>yr</th>\n",
       "    </tr>\n",
       "  </thead>\n",
       "  <tbody>\n",
       "    <tr>\n",
       "      <th>17165</th>\n",
       "      <td> AFVQZQ8PW0L</td>\n",
       "      <td> 0002326876</td>\n",
       "      <td> Harriet Klausner</td>\n",
       "      <td>  [1, 1]</td>\n",
       "      <td> On the Island of Mallorca, though the case is ...</td>\n",
       "      <td> 4</td>\n",
       "      <td> 04 16, 2001</td>\n",
       "      <td>        An atmospheric mystery that is a good read</td>\n",
       "      <td> {u'Books': 10959482}</td>\n",
       "      <td> http://ecx.images-amazon.com/images/I/51Q7MPPY...</td>\n",
       "      <td> [[Books]]</td>\n",
       "      <td> The Ambiguity of Murder (Inspector Alvarez Novel)</td>\n",
       "      <td> Murder will out, and does, in this latest addi...</td>\n",
       "      <td>                                              None</td>\n",
       "      <td>  NaN</td>\n",
       "      <td> None</td>\n",
       "      <td>  1</td>\n",
       "      <td> 1</td>\n",
       "      <td> 100</td>\n",
       "      <td> 2001</td>\n",
       "    </tr>\n",
       "    <tr>\n",
       "      <th>20489</th>\n",
       "      <td> AFVQZQ8PW0L</td>\n",
       "      <td> 0006353282</td>\n",
       "      <td> Harriet Klausner</td>\n",
       "      <td> [9, 10]</td>\n",
       "      <td> This is a reprint of Agatha Christie's autobio...</td>\n",
       "      <td> 5</td>\n",
       "      <td> 11 22, 2011</td>\n",
       "      <td> wonderful look at the life of the Grand Dame o...</td>\n",
       "      <td>  {u'Books': 1127575}</td>\n",
       "      <td> http://ecx.images-amazon.com/images/I/41K1B7EG...</td>\n",
       "      <td> [[Books]]</td>\n",
       "      <td>                                  An Autobiography</td>\n",
       "      <td> 'Wonderfully easy to read and engrossing.' The...</td>\n",
       "      <td> {u'also_bought': [u'0062093703', u'0061988375'...</td>\n",
       "      <td> 6.64</td>\n",
       "      <td> None</td>\n",
       "      <td> 10</td>\n",
       "      <td> 9</td>\n",
       "      <td> 111</td>\n",
       "      <td> 2011</td>\n",
       "    </tr>\n",
       "    <tr>\n",
       "      <th>20975</th>\n",
       "      <td> AFVQZQ8PW0L</td>\n",
       "      <td> 0006392202</td>\n",
       "      <td> Harriet Klausner</td>\n",
       "      <td> [9, 10]</td>\n",
       "      <td> Barth Crane is a high powered Toronto attorney...</td>\n",
       "      <td> 5</td>\n",
       "      <td>  05 9, 2000</td>\n",
       "      <td>                         Excellent surreal mystery</td>\n",
       "      <td> {u'Books': 10187194}</td>\n",
       "      <td> http://ecx.images-amazon.com/images/I/41GR6W1C...</td>\n",
       "      <td> [[Books]]</td>\n",
       "      <td>                                        Lost Girls</td>\n",
       "      <td>                                              None</td>\n",
       "      <td> {u'also_bought': [u'1451697414', u'0312429037'...</td>\n",
       "      <td> 8.89</td>\n",
       "      <td> None</td>\n",
       "      <td> 10</td>\n",
       "      <td> 9</td>\n",
       "      <td> 111</td>\n",
       "      <td> 2000</td>\n",
       "    </tr>\n",
       "    <tr>\n",
       "      <th>21186</th>\n",
       "      <td> AFVQZQ8PW0L</td>\n",
       "      <td> 000639325X</td>\n",
       "      <td> Harriet Klausner</td>\n",
       "      <td>  [8, 9]</td>\n",
       "      <td> San Francisco computer programmer Paul Wood en...</td>\n",
       "      <td> 4</td>\n",
       "      <td> 06 26, 2004</td>\n",
       "      <td>                    entertaining chilling thriller</td>\n",
       "      <td>  {u'Books': 8676540}</td>\n",
       "      <td> http://ecx.images-amazon.com/images/I/41APXQN7...</td>\n",
       "      <td> [[Books]]</td>\n",
       "      <td>                                       Dark Places</td>\n",
       "      <td>                                              None</td>\n",
       "      <td> {u'buy_after_viewing': [u'0307341577', u'03073...</td>\n",
       "      <td> 0.00</td>\n",
       "      <td> None</td>\n",
       "      <td>  9</td>\n",
       "      <td> 8</td>\n",
       "      <td> 112</td>\n",
       "      <td> 2004</td>\n",
       "    </tr>\n",
       "    <tr>\n",
       "      <th>24712</th>\n",
       "      <td> AFVQZQ8PW0L</td>\n",
       "      <td> 0006512666</td>\n",
       "      <td> Harriet Klausner</td>\n",
       "      <td>  [4, 8]</td>\n",
       "      <td> In a future world a lot weirder than the prese...</td>\n",
       "      <td> 5</td>\n",
       "      <td>  09 9, 2000</td>\n",
       "      <td>                                great offbeat read</td>\n",
       "      <td>  {u'Books': 2595605}</td>\n",
       "      <td> http://ecx.images-amazon.com/images/I/413Q-gph...</td>\n",
       "      <td> [[Books]]</td>\n",
       "      <td>                                      Only Forward</td>\n",
       "      <td> The dazzling pyrotechnics of British author Sm...</td>\n",
       "      <td> {u'also_viewed': [u'B003H4RCXY', u'0553580698'...</td>\n",
       "      <td> 6.64</td>\n",
       "      <td> None</td>\n",
       "      <td>  8</td>\n",
       "      <td> 4</td>\n",
       "      <td> 200</td>\n",
       "      <td> 2000</td>\n",
       "    </tr>\n",
       "  </tbody>\n",
       "</table>\n",
       "</div>"
      ],
      "text/plain": [
       "        reviewerID        asin      reviewerName  helpful  \\\n",
       "17165  AFVQZQ8PW0L  0002326876  Harriet Klausner   [1, 1]   \n",
       "20489  AFVQZQ8PW0L  0006353282  Harriet Klausner  [9, 10]   \n",
       "20975  AFVQZQ8PW0L  0006392202  Harriet Klausner  [9, 10]   \n",
       "21186  AFVQZQ8PW0L  000639325X  Harriet Klausner   [8, 9]   \n",
       "24712  AFVQZQ8PW0L  0006512666  Harriet Klausner   [4, 8]   \n",
       "\n",
       "                                              reviewText  ReviewRating  \\\n",
       "17165  On the Island of Mallorca, though the case is ...             4   \n",
       "20489  This is a reprint of Agatha Christie's autobio...             5   \n",
       "20975  Barth Crane is a high powered Toronto attorney...             5   \n",
       "21186  San Francisco computer programmer Paul Wood en...             4   \n",
       "24712  In a future world a lot weirder than the prese...             5   \n",
       "\n",
       "        reviewTime                                         RevSummary  \\\n",
       "17165  04 16, 2001         An atmospheric mystery that is a good read   \n",
       "20489  11 22, 2011  wonderful look at the life of the Grand Dame o...   \n",
       "20975   05 9, 2000                          Excellent surreal mystery   \n",
       "21186  06 26, 2004                     entertaining chilling thriller   \n",
       "24712   09 9, 2000                                 great offbeat read   \n",
       "\n",
       "                  salesRank  \\\n",
       "17165  {u'Books': 10959482}   \n",
       "20489   {u'Books': 1127575}   \n",
       "20975  {u'Books': 10187194}   \n",
       "21186   {u'Books': 8676540}   \n",
       "24712   {u'Books': 2595605}   \n",
       "\n",
       "                                                   imUrl categories  \\\n",
       "17165  http://ecx.images-amazon.com/images/I/51Q7MPPY...  [[Books]]   \n",
       "20489  http://ecx.images-amazon.com/images/I/41K1B7EG...  [[Books]]   \n",
       "20975  http://ecx.images-amazon.com/images/I/41GR6W1C...  [[Books]]   \n",
       "21186  http://ecx.images-amazon.com/images/I/41APXQN7...  [[Books]]   \n",
       "24712  http://ecx.images-amazon.com/images/I/413Q-gph...  [[Books]]   \n",
       "\n",
       "                                                   title  \\\n",
       "17165  The Ambiguity of Murder (Inspector Alvarez Novel)   \n",
       "20489                                   An Autobiography   \n",
       "20975                                         Lost Girls   \n",
       "21186                                        Dark Places   \n",
       "24712                                       Only Forward   \n",
       "\n",
       "                                             description  \\\n",
       "17165  Murder will out, and does, in this latest addi...   \n",
       "20489  'Wonderfully easy to read and engrossing.' The...   \n",
       "20975                                               None   \n",
       "21186                                               None   \n",
       "24712  The dazzling pyrotechnics of British author Sm...   \n",
       "\n",
       "                                                 related  price brand  \\\n",
       "17165                                               None    NaN  None   \n",
       "20489  {u'also_bought': [u'0062093703', u'0061988375'...   6.64  None   \n",
       "20975  {u'also_bought': [u'1451697414', u'0312429037'...   8.89  None   \n",
       "21186  {u'buy_after_viewing': [u'0307341577', u'03073...   0.00  None   \n",
       "24712  {u'also_viewed': [u'B003H4RCXY', u'0553580698'...   6.64  None   \n",
       "\n",
       "       helpful-max  helpful-score  helpful-percent    yr  \n",
       "17165            1              1              100  2001  \n",
       "20489           10              9              111  2011  \n",
       "20975           10              9              111  2000  \n",
       "21186            9              8              112  2004  \n",
       "24712            8              4              200  2000  "
      ]
     },
     "execution_count": 56,
     "metadata": {},
     "output_type": "execute_result"
    }
   ],
   "source": [
    "#USER AFVQZQ8PW0L reviews across years\n",
    "top_user = df_reviews[df_reviews.reviewerID==\"AFVQZQ8PW0L\"]\n",
    "top_user.head()"
   ]
  },
  {
   "cell_type": "code",
   "execution_count": 101,
   "metadata": {
    "collapsed": false
   },
   "outputs": [
    {
     "data": {
      "text/plain": [
       "2237"
      ]
     },
     "execution_count": 101,
     "metadata": {},
     "output_type": "execute_result"
    }
   ],
   "source": [
    "len(top_user)"
   ]
  },
  {
   "cell_type": "code",
   "execution_count": 72,
   "metadata": {
    "collapsed": false
   },
   "outputs": [
    {
     "data": {
      "text/plain": [
       "<matplotlib.text.Text at 0x10c75d8d0>"
      ]
     },
     "execution_count": 72,
     "metadata": {},
     "output_type": "execute_result"
    },
    {
     "data": {
      "image/png": "[encoded data removed]",
      "text/plain": [
       "<matplotlib.figure.Figure at 0x10c46ca10>"
      ]
     },
     "metadata": {},
     "output_type": "display_data"
    }
   ],
   "source": [
    "#top user reviews per year\n",
    "\n",
    "top_user.groupby(['yr']).size().plot(kind = 'bar')\n",
    "plt.ylabel('# of reviews')\n",
    "plt.title('USER AFVQZQ8PW0L # of reviews over time')\n"
   ]
  },
  {
   "cell_type": "code",
   "execution_count": 64,
   "metadata": {
    "collapsed": false
   },
   "outputs": [
    {
     "data": {
      "text/plain": [
       "<matplotlib.text.Text at 0x115e15a10>"
      ]
     },
     "execution_count": 64,
     "metadata": {},
     "output_type": "execute_result"
    },
    {
     "data": {
      "image/png": "[encoded data removed]",
      "text/plain": [
       "<matplotlib.figure.Figure at 0x115e1ed50>"
      ]
     },
     "metadata": {},
     "output_type": "display_data"
    }
   ],
   "source": [
    "#most reviewed books \n",
    "\n",
    "df_reviews.groupby('title').size().order().tail(10).plot(kind='bar')\n",
    "plt.title('Most Reviewed Books')\n",
    "plt.ylabel('# of Books')"
   ]
  },
  {
   "cell_type": "code",
   "execution_count": 77,
   "metadata": {
    "collapsed": false
   },
   "outputs": [
    {
     "name": "stdout",
     "output_type": "stream",
     "text": [
      "5.0\n",
      "1.0\n"
     ]
    }
   ],
   "source": [
    "# Star ratings range from 1 to 5 in the dataset\n",
    "print max(df_reviews['ReviewRating'])\n",
    "print min(df_reviews['ReviewRating'])\n"
   ]
  },
  {
   "cell_type": "code",
   "execution_count": 78,
   "metadata": {
    "collapsed": false
   },
   "outputs": [
    {
     "name": "stdout",
     "output_type": "stream",
     "text": [
      "2014\n",
      "1996\n"
     ]
    }
   ],
   "source": [
    "# years range from 1996-2014\n",
    "print max(df_reviews['yr'])\n",
    "print min(df_reviews['yr'])"
   ]
  },
  {
   "cell_type": "code",
   "execution_count": 84,
   "metadata": {
    "collapsed": false
   },
   "outputs": [
    {
     "name": "stdout",
     "output_type": "stream",
     "text": [
      "8.77825020647\n"
     ]
    }
   ],
   "source": [
    "#separating positive and negative reviews into different dataframes \n",
    "#and plotting their word associations\n",
    "\n",
    "df_reviews_positive = df_reviews[df_reviews['ReviewRating']>3]\n",
    "len(df_reviews_positive)\n",
    "df_reviews_positive.head()\n",
    "#computing average price for books with positive reviews\n",
    "print sum(df_reviews_positive['price'])/len(df_reviews_positive['price'])\n"
   ]
  },
  {
   "cell_type": "code",
   "execution_count": 85,
   "metadata": {
    "collapsed": false
   },
   "outputs": [
    {
     "name": "stdout",
     "output_type": "stream",
     "text": [
      "8.62252667325\n"
     ]
    }
   ],
   "source": [
    "df_reviews_negative = df_reviews[df_reviews['ReviewRating']<=3]\n",
    "len(df_reviews_negative)\n",
    "#computing average price for books with positive reviews\n",
    "print sum(df_reviews_negative['price'])/len(df_reviews_negative['price'])\n"
   ]
  },
  {
   "cell_type": "code",
   "execution_count": null,
   "metadata": {
    "collapsed": true
   },
   "outputs": [],
   "source": []
  },
  {
   "cell_type": "code",
   "execution_count": null,
   "metadata": {
    "collapsed": true
   },
   "outputs": [],
   "source": []
  }
 ],
 "metadata": {
  "kernelspec": {
   "display_name": "Python 2",
   "language": "python",
   "name": "python2"
  },
  "language_info": {
   "codemirror_mode": {
    "name": "ipython",
    "version": 2
   },
   "file_extension": ".py",
   "mimetype": "text/x-python",
   "name": "python",
   "nbconvert_exporter": "python",
   "pygments_lexer": "ipython2",
   "version": "2.7.10"
  }
 },
 "nbformat": 4,
 "nbformat_minor": 0
}
